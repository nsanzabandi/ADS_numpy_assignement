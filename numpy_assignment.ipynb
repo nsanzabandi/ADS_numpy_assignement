{
 "cells": [
  {
   "cell_type": "code",
   "execution_count": 3,
   "id": "d08e698e",
   "metadata": {},
   "outputs": [],
   "source": [
    "import numpy as np"
   ]
  },
  {
   "cell_type": "code",
   "execution_count": 4,
   "id": "411adad2",
   "metadata": {},
   "outputs": [],
   "source": [
    "# data for a given array\n",
    "heights = np.array([160, 155, 172, 165, 180, 158, 175, 163, 171, 168])"
   ]
  },
  {
   "cell_type": "code",
   "execution_count": 5,
   "id": "ec2fca27",
   "metadata": {},
   "outputs": [],
   "source": [
    "#find mean for the give data\n",
    "Mean=heights.mean()"
   ]
  },
  {
   "cell_type": "code",
   "execution_count": 6,
   "id": "0318a50e",
   "metadata": {},
   "outputs": [
    {
     "name": "stdout",
     "output_type": "stream",
     "text": [
      "Mean= 166.7\n"
     ]
    }
   ],
   "source": [
    "print(\"Mean=\",Mean)"
   ]
  },
  {
   "cell_type": "code",
   "execution_count": 7,
   "id": "6cf6d59a",
   "metadata": {},
   "outputs": [
    {
     "data": {
      "text/plain": [
       "166.5"
      ]
     },
     "execution_count": 7,
     "metadata": {},
     "output_type": "execute_result"
    }
   ],
   "source": [
    "#finding median from the data\n",
    "np.median(heights)"
   ]
  },
  {
   "cell_type": "code",
   "execution_count": 8,
   "id": "5f5467ac",
   "metadata": {},
   "outputs": [],
   "source": [
    "standard=heights.std()"
   ]
  },
  {
   "cell_type": "code",
   "execution_count": 9,
   "id": "87429f1f",
   "metadata": {},
   "outputs": [
    {
     "name": "stdout",
     "output_type": "stream",
     "text": [
      "Standard deviation= 7.5372408744845085\n"
     ]
    }
   ],
   "source": [
    "print(\"Standard deviation=\",standard)"
   ]
  },
  {
   "cell_type": "code",
   "execution_count": 10,
   "id": "1a7120a8",
   "metadata": {},
   "outputs": [],
   "source": [
    "#normalize all values to be between 0 and 1\n",
    "normalized_heights = (heights-heights.min())/(heights.max()-heights.min())"
   ]
  },
  {
   "cell_type": "code",
   "execution_count": 11,
   "id": "36e892be",
   "metadata": {},
   "outputs": [
    {
     "name": "stdout",
     "output_type": "stream",
     "text": [
      "normalized_heights= [0.2  0.   0.68 0.4  1.   0.12 0.8  0.32 0.64 0.52]\n"
     ]
    }
   ],
   "source": [
    "print(\"normalized_heights=\",normalized_heights)"
   ]
  },
  {
   "cell_type": "code",
   "execution_count": 17,
   "id": "356e5bb5",
   "metadata": {},
   "outputs": [],
   "source": [
    "#Randomly select 5 heights from the dataset without replacement.\n",
    "random=np.random.choice(heights, 5, replace=True)"
   ]
  },
  {
   "cell_type": "code",
   "execution_count": 18,
   "id": "2b27698a",
   "metadata": {},
   "outputs": [
    {
     "name": "stdout",
     "output_type": "stream",
     "text": [
      "Randomly of 5 heights are: [158 158 163 175 165]\n"
     ]
    }
   ],
   "source": [
    "print(\"Randomly of 5 heights are:\",random)"
   ]
  },
  {
   "cell_type": "code",
   "execution_count": 19,
   "id": "d3af6b50",
   "metadata": {},
   "outputs": [],
   "source": [
    "#NumPy's argmax \n",
    "heights_argmax = np.argmax(heights)\n"
   ]
  },
  {
   "cell_type": "code",
   "execution_count": 20,
   "id": "8c9e9538",
   "metadata": {},
   "outputs": [
    {
     "name": "stdout",
     "output_type": "stream",
     "text": [
      "Argmax: 4\n"
     ]
    }
   ],
   "source": [
    "\n",
    "print(\"Argmax:\", heights_argmax)  "
   ]
  },
  {
   "cell_type": "code",
   "execution_count": 24,
   "id": "2c7cbc63",
   "metadata": {},
   "outputs": [],
   "source": [
    "#NumPy's argmin \n",
    "heights_argmin  = np.argmin(heights)"
   ]
  },
  {
   "cell_type": "code",
   "execution_count": 25,
   "id": "201befcc",
   "metadata": {},
   "outputs": [
    {
     "name": "stdout",
     "output_type": "stream",
     "text": [
      "argmin: 1\n"
     ]
    }
   ],
   "source": [
    "print(\"argmin:\", heights_argmin)  "
   ]
  },
  {
   "cell_type": "code",
   "execution_count": 26,
   "id": "31aa4e09",
   "metadata": {},
   "outputs": [],
   "source": [
    "#Calculate the difference between the tallest and shortest students' heights.\n",
    "\n",
    "difference=heights_argmax-heights_argmin"
   ]
  },
  {
   "cell_type": "code",
   "execution_count": 27,
   "id": "a16e2d62",
   "metadata": {},
   "outputs": [
    {
     "name": "stdout",
     "output_type": "stream",
     "text": [
      "The difference is: 3\n"
     ]
    }
   ],
   "source": [
    "print(\"The difference is:\",difference)"
   ]
  },
  {
   "cell_type": "code",
   "execution_count": null,
   "id": "37deddfd",
   "metadata": {},
   "outputs": [],
   "source": []
  }
 ],
 "metadata": {
  "kernelspec": {
   "display_name": "Python 3 (ipykernel)",
   "language": "python",
   "name": "python3"
  },
  "language_info": {
   "codemirror_mode": {
    "name": "ipython",
    "version": 3
   },
   "file_extension": ".py",
   "mimetype": "text/x-python",
   "name": "python",
   "nbconvert_exporter": "python",
   "pygments_lexer": "ipython3",
   "version": "3.10.6"
  }
 },
 "nbformat": 4,
 "nbformat_minor": 5
}
